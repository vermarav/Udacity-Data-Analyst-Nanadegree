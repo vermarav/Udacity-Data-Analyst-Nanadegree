{
 "cells": [
  {
   "cell_type": "markdown",
   "metadata": {},
   "source": [
    "# Project 3: OpenStreetMap Data Wrangling with SQL"
   ]
  },
  {
   "cell_type": "markdown",
   "metadata": {},
   "source": [
    "Name: Ravi Verma\n",
    "\n",
    "Map Area: New Delhi, India.\n",
    "\n",
    "https://www.openstreetmap.org/relation/2763541\n",
    "\n",
    "I used New Delhi's data because, I used to live there. "
   ]
  },
  {
   "cell_type": "markdown",
   "metadata": {},
   "source": [
    "# 1. Data Audit"
   ]
  },
  {
   "cell_type": "markdown",
   "metadata": {},
   "source": [
    "There were diffrent types of tags present in the XML file. So, I parse the New Delhi,India dataset using ElementTree and counted the number of the unique tags. ```python mapparser.py``` is used to count the numbers of unique tags."
   ]
  },
  {
   "cell_type": "markdown",
   "metadata": {},
   "source": [
    "```python\n",
    "{'bounds': 1,\n",
    " 'member': 28525,\n",
    " 'nd': 4240820,\n",
    " 'node': 3429702,\n",
    " 'osm': 1,\n",
    " 'relation': 6231,\n",
    " 'tag': 830205,\n",
    " 'way': 696002}\n",
    " ```"
   ]
  },
  {
   "cell_type": "markdown",
   "metadata": {},
   "source": [
    "#### Patterns in the Tags\n",
    "\n",
    "The \"k\" value of each tag contain different patterns. \n",
    "Using ```python tags.py```, I created 3 regular expressions to check for certain patterns in the tags. \n",
    "\n",
    "I have counted each of four tag categories.\n",
    "\n",
    "```python \n",
    "{'lower': 813964, 'lower_colon': 15814, 'other': 421, 'problemchars': 6}\n",
    "```\n",
    "\n",
    "\"lower\" : for tags that contain only lowercase letters and are valid,  \n",
    "\"lower_colon\" : for otherwise valid tags with a colon in their names,  \n",
    "\"problemchars\" : for tags with problematic characters, and  \n",
    "\"other\" : for other tags that do not fall into the other three categories."
   ]
  },
  {
   "cell_type": "markdown",
   "metadata": {
    "collapsed": true
   },
   "source": [
    "# 2. Problems Encountered in Dataset"
   ]
  },
  {
   "cell_type": "markdown",
   "metadata": {},
   "source": [
    "The major problems that we faced in the dataset were name inconsistencies. The street names as well as city names were wrong or misspelled.  \n",
    "By using `audit.py`, we corrected the names of street and city."
   ]
  },
  {
   "cell_type": "markdown",
   "metadata": {},
   "source": [
    "##### Abbreviations\n",
    "`Rd. : Road`  \n",
    "`Ave. : Avenue`  \n",
    "`Res. : Residential`   \n",
    "`Indl : Industrial`  \n",
    "\n",
    "##### Lower Cases\n",
    "`new dlehi : New Delhi`  \n",
    "`newdelhi : New Delhi`  \n",
    "   \n",
    "##### Native Language Name\n",
    "`Nayi Dilli to New Delhi`  \n",
    "`Rasta : Road`  \n",
    "   \n",
    "##### Misspelling\n",
    "`Socity : Society`  \n",
    "\n",
    "\n",
    "There were some other errors present in datasets\n",
    "1. there were some entries of area without posal code (missing key for codes) becasue the street name had the pince along with it's name.\n",
    "\n",
    "for e.g. `New Delhi- 110024`\n",
    "\n",
    "2. Key 'k' of some nodes had values in different languages such as Hindi, Urdu for e.g. `v=\"नई दिल्ली\"`, `v=\"دهلی نو\"` , `v=\"ಹೊಸ ದೆಹಲಿ\"`"
   ]
  },
  {
   "cell_type": "markdown",
   "metadata": {},
   "source": [
    "# 3. Data Overview"
   ]
  },
  {
   "cell_type": "markdown",
   "metadata": {},
   "source": [
    "### Total number of nodes"
   ]
  },
  {
   "cell_type": "markdown",
   "metadata": {},
   "source": [
    "```SQL\n",
    "select count(id) from nodes;\n",
    "```\n",
    "\n",
    "##### Output:  \n",
    "```SQL\n",
    "3429702\n",
    "```"
   ]
  },
  {
   "cell_type": "markdown",
   "metadata": {},
   "source": [
    "### Total number of ways\n",
    "\n",
    "```SQL\n",
    "select count(*) from ways;\n",
    "```\n",
    "\n",
    "##### Output:  \n",
    "```SQL\n",
    "696002\n",
    "```"
   ]
  },
  {
   "cell_type": "markdown",
   "metadata": {},
   "source": [
    "### Total number of users\n",
    "\n",
    "```SQL\n",
    "select count(*) No_of_unique_users from (select distinct uid from nodes union select distinct uid from ways);\n",
    "```\n",
    "\n",
    "##### Output:  \n",
    "```SQL\n",
    "1557\n",
    "```"
   ]
  },
  {
   "cell_type": "markdown",
   "metadata": {},
   "source": [
    "### Top 5 Contibuters\n",
    "\n",
    "```SQL\n",
    "SELECT user, count(*) as contribution from (select user from nodes union all select user from ways) \n",
    "group by user order by contribution desc limit 5;\n",
    "```\n",
    "\n",
    "##### Output:  \n",
    "```SQL\n",
    "\"Oberaffe\"\t\"270149\"\n",
    "\"premkumar\"\t\"164029\"\n",
    "\"saikumar\"\t\"159904\"\n",
    "\"Naresh08\"\t\"136219\"\n",
    "\"anushap\"\t\"133366\"\n",
    "```\n",
    "\n",
    "\n",
    "First Column is User and second column is number of contribution."
   ]
  },
  {
   "cell_type": "markdown",
   "metadata": {},
   "source": [
    "# 4. Additional Data Exploration"
   ]
  },
  {
   "cell_type": "markdown",
   "metadata": {},
   "source": [
    "### Top cuisines\n",
    "\n",
    "```SQL\n",
    "SELECT value, COUNT(*) as num\n",
    "FROM nodes_tags\n",
    "JOIN (SELECT DISTINCT(id) FROM nodes_tags WHERE value='restaurant') tab\n",
    "ON nodes_tags.id=tab.id\n",
    "WHERE key='cuisine'\n",
    "GROUP BY nodes_tags.value\n",
    "ORDER BY num DESC;\n",
    "```\n",
    "\n",
    "##### Output:\n",
    "```SQL\n",
    "\"indian\"\t\"25\"\n",
    "\"regional\"\t\"11\"\n",
    "\"pizza\"\t\"8\"\n",
    "\"North_Indian\"\t\"5\"\n",
    "\"chinese\"\t\"5\"\n",
    "\"vegetarian\"\t\"5\"\n",
    "\"burger\"\t\"4\"\n",
    "\"korean\"\t\"2\"\n",
    "\"local\"\t\"2\"\n",
    "\"sandwich\"\t\"2\"\n",
    "\n",
    "```"
   ]
  },
  {
   "cell_type": "markdown",
   "metadata": {},
   "source": [
    "### Most common Amenities\n",
    "\n",
    "```SQL\n",
    "SELECT value, COUNT(*) as quantity FROM nodes_tags\n",
    "WHERE key='amenity' GROUP BY value\n",
    "ORDER BY quantity DESC LIMIT 10;\n",
    "```\n",
    "\n",
    "##### Output:\n",
    "```SQL\n",
    "\"restaurant\"\t255\n",
    "\"atm\"\t229\n",
    "\"fuel\"\t228\n",
    "\"place_of_worship\"\t204\n",
    "\"bank\"\t189\n",
    "\"school\"\t165\n",
    "\"fast_food\"\t135\n",
    "\"parking\"\t93\n",
    "\"hospital\"\t88\n",
    "\"cafe\"\t87\n",
    "\n",
    "```"
   ]
  },
  {
   "cell_type": "markdown",
   "metadata": {},
   "source": [
    "### Top 10 node types\n",
    "\n",
    "```SQL\n",
    "select b.type, count(distinct a.id) from nodes a \n",
    "inner join nodes_tags b on a.id = b.id \n",
    "group by 1 order by 2 desc limit 10;\n",
    "```\n",
    "\n",
    "##### Output\n",
    "```SQL\n",
    "\"regular\"\t26682\n",
    "\"addr\"\t2148\n",
    "\"name\"\t657\n",
    "\"shop\"\t329\n",
    "\"tower\"\t278\n",
    "\"brand\"\t105\n",
    "\"source\"\t33\n",
    "\"building\"\t13\n",
    "\"generator\"\t12\n",
    "\"is_in\"\t12\n",
    "```"
   ]
  },
  {
   "cell_type": "markdown",
   "metadata": {},
   "source": [
    "### Other Ideas\n",
    "\n",
    "The dataset is mostly populated by user and the process is manual, so human mistakes are inevitable.\n",
    "So to improve the quality of data set, we should provie users some options, for e.g. if a user want to add value for a town starting with letter 'S', it should show a list of all the towns present with S. This will make a significant shange in dataset. People wil have preset values, which will reduce the errors.\n",
    "Implemnttion of the above idea has some drawbacks, if a entry is made which is not present in the preset list of values, then we don't know if the enty made for that value is correct or not.\n"
   ]
  },
  {
   "cell_type": "markdown",
   "metadata": {},
   "source": [
    "# Conclusion\n",
    "\n",
    "New Delhi area dataset is quite big and has many inconsistencies. It had wrong and misspelled name of city, street.\n",
    "The dataset was cleaned and exploration was done using SQL. Idea for improving the quality if dataset was also given."
   ]
  },
  {
   "cell_type": "markdown",
   "metadata": {},
   "source": [
    "# Files\n",
    "\n"
   ]
  },
  {
   "cell_type": "raw",
   "metadata": {
    "collapsed": true
   },
   "source": [
    "new-delhi_indai.osm ------------------ 720  MB\n",
    "delhi1.db ---------------------------- 518  MB\n",
    "nodes.csv ---------------------------- 272  MB\n",
    "nodes_tags.csv ----------------------- 1.52 MB\n",
    "ways.csv ----------------------------- 40.2 MB\n",
    "ways_tags.csv ------------------------ 24.4 MB\n",
    "ways_nodes.csv ----------------------- 97.3 MB\n",
    "new-delhi_india_samle.osm ------------ 72.8 MB"
   ]
  }
 ],
 "metadata": {
  "kernelspec": {
   "display_name": "Python 2",
   "language": "python",
   "name": "python2"
  },
  "language_info": {
   "codemirror_mode": {
    "name": "ipython",
    "version": 2
   },
   "file_extension": ".py",
   "mimetype": "text/x-python",
   "name": "python",
   "nbconvert_exporter": "python",
   "pygments_lexer": "ipython2",
   "version": "2.7.16"
  }
 },
 "nbformat": 4,
 "nbformat_minor": 2
}
